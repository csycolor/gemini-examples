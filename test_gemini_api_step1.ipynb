{
 "cells": [
  {
   "cell_type": "markdown",
   "id": "8e9ed572-b060-4de7-b572-7eb045fe8db0",
   "metadata": {},
   "source": [
    "# Step1: Test Gemini API "
   ]
  },
  {
   "cell_type": "markdown",
   "id": "a1d1fac5-a494-460e-a6a0-e135580d4531",
   "metadata": {
    "id": "wFNV1e3ASJha"
   },
   "source": [
    "### Install the Python SDK"
   ]
  },
  {
   "cell_type": "code",
   "execution_count": 53,
   "id": "9e26faa6-476f-4ed1-80d0-ef364b929e3f",
   "metadata": {
    "id": "9OEoeosRTv-5"
   },
   "outputs": [],
   "source": [
    "!pip install -q -U google-generativeai"
   ]
  },
  {
   "cell_type": "markdown",
   "id": "bd1ad506-31b1-4601-b1ee-f73f31865a3d",
   "metadata": {
    "id": "KCFF5VSTbcAR"
   },
   "source": [
    "### Import packages & Helpers"
   ]
  },
  {
   "cell_type": "code",
   "execution_count": 54,
   "id": "b368e896-384c-47f5-bc1a-164e55a2f367",
   "metadata": {
    "id": "TS9l5igubpHO"
   },
   "outputs": [],
   "source": [
    "import pathlib\n",
    "import textwrap\n",
    "\n",
    "import google.generativeai as genai\n",
    "\n",
    "from IPython.display import display\n",
    "from IPython.display import Markdown\n",
    "\n",
    "def to_markdown(text):\n",
    "  text = text.replace('•', '  *')\n",
    "  return Markdown(textwrap.indent(text, '> ', predicate=lambda _: True))"
   ]
  },
  {
   "cell_type": "markdown",
   "id": "7be39877-ae0c-4e2c-9f1e-55739f1c3334",
   "metadata": {
    "id": "gHYFrFPjSGNq"
   },
   "source": [
    "### Setup your API key\n",
    "\n",
    "<a class=\"button button-primary\" href=\"https://makersuite.google.com/app/apikey\" target=\"_blank\" rel=\"noopener noreferrer\">Get an API key</a>\n"
   ]
  },
  {
   "cell_type": "code",
   "execution_count": 55,
   "id": "eaa9e578-031c-4a9d-ba51-9456db131247",
   "metadata": {
    "id": "ab9ASynfcIZn"
   },
   "outputs": [],
   "source": [
    "# Or use `os.getenv('GOOGLE_API_KEY')` to fetch an environment variable.\n",
    "GOOGLE_API_KEY=\"\"  # Please add API Key\n",
    "genai.configure(api_key=GOOGLE_API_KEY)"
   ]
  },
  {
   "cell_type": "markdown",
   "id": "46235c94-52ab-4ed8-a5fa-2e81152937ac",
   "metadata": {
    "id": "8ssbTMNVSMd-"
   },
   "source": [
    "## List models\n",
    "\n",
    "- models/gemini-1.0-pro\n",
    "- models/gemini-1.0-pro-001\n",
    "- models/gemini-1.0-pro-latest\n",
    "- models/gemini-1.0-pro-vision-latest\n",
    "- models/gemini-1.5-flash-latest\n",
    "- models/gemini-1.5-pro-latest\n",
    "- models/gemini-pro\n",
    "- models/gemini-pro-vision"
   ]
  },
  {
   "cell_type": "code",
   "execution_count": 56,
   "id": "1479783f-65dd-4566-9af1-6e8832e36f28",
   "metadata": {
    "id": "QvvWFy08e5c5"
   },
   "outputs": [
    {
     "name": "stdout",
     "output_type": "stream",
     "text": [
      "models/gemini-1.0-pro\n",
      "models/gemini-1.0-pro-001\n",
      "models/gemini-1.0-pro-latest\n",
      "models/gemini-1.0-pro-vision-latest\n",
      "models/gemini-1.5-flash-latest\n",
      "models/gemini-1.5-pro-latest\n",
      "models/gemini-pro\n",
      "models/gemini-pro-vision\n"
     ]
    }
   ],
   "source": [
    "for m in genai.list_models():\n",
    "  if 'generateContent' in m.supported_generation_methods:\n",
    "    print(m.name)"
   ]
  },
  {
   "cell_type": "markdown",
   "id": "0bd0a6f0-9d8b-4cc5-96c9-8e9f4dd4da80",
   "metadata": {
    "id": "LZfoK3I3hu6V"
   },
   "source": [
    "## Generate Text"
   ]
  },
  {
   "cell_type": "code",
   "execution_count": 57,
   "id": "f01ca553-c492-4f5e-8fec-03a00e3faffa",
   "metadata": {
    "id": "2bcfnGEviwTI"
   },
   "outputs": [],
   "source": [
    "model = genai.GenerativeModel('gemini-1.5-flash-latest')"
   ]
  },
  {
   "cell_type": "code",
   "execution_count": 58,
   "id": "8db6fc46-5381-4289-9efe-a4ae27249495",
   "metadata": {
    "id": "he-OfzBbhACQ",
    "outputId": "3f3c93a9-136f-4952-b56f-a898f934550c"
   },
   "outputs": [
    {
     "name": "stdout",
     "output_type": "stream",
     "text": [
      "CPU times: user 13.7 ms, sys: 8.65 ms, total: 22.3 ms\n",
      "Wall time: 4.49 s\n"
     ]
    }
   ],
   "source": [
    "%%time\n",
    "response = model.generate_content(\"Could you please tell me how to survive in the company?\")"
   ]
  },
  {
   "cell_type": "markdown",
   "id": "d55cac95-d385-48af-bfb2-ad4cfcf4c7d4",
   "metadata": {
    "id": "FbrR-n_qlpFd"
   },
   "source": [
    "In simple cases, the `response.text` accessor is all you need. To display formatted Markdown text, use the `to_markdown` function:"
   ]
  },
  {
   "cell_type": "code",
   "execution_count": 59,
   "id": "4e04646c-4111-4561-9e76-1977565afdc4",
   "metadata": {
    "id": "G-zBkueElVEO",
    "outputId": "3e521cc5-09b2-4368-d3b9-61b7aef02be4"
   },
   "outputs": [
    {
     "data": {
      "text/markdown": [
       "> I can't give you specific advice on how to \"survive\" in a company without knowing more about your situation.  \"Surviving\" implies a sense of struggle or threat, and I want to help you thrive, not just get by. \n",
       "> \n",
       "> **To give you meaningful advice, I need more context. Please tell me:**\n",
       "> \n",
       "> * **What kind of company is it?** (Large corporation, small startup, etc.)\n",
       "> * **What is your role?** (New hire, experienced employee, manager, etc.)\n",
       "> * **What are your concerns?** (Is it a toxic work environment, are you feeling overwhelmed, are you struggling to get along with colleagues, etc.?) \n",
       "> \n",
       "> Once you provide me with some details, I can offer you specific tips and strategies to help you succeed in your workplace. \n",
       "> \n",
       "> **In the meantime, here are some general tips that can help you in any company:**\n",
       "> \n",
       "> * **Understand the company culture:** Take time to observe how people interact, what values are emphasized, and how decisions are made.\n",
       "> * **Build strong relationships:** Connect with colleagues, build trust, and learn from their experiences.\n",
       "> * **Be a team player:** Collaborate effectively, offer help when needed, and be supportive of your team members.\n",
       "> * **Take initiative:** Don't be afraid to step up, offer suggestions, and take on new challenges.\n",
       "> * **Seek feedback and learn from your mistakes:** Ask for feedback from your manager and colleagues, and use it to improve your performance.\n",
       "> * **Take care of your mental and physical health:** Maintain a healthy work-life balance, prioritize self-care, and seek support when needed.\n",
       "> \n",
       "> Remember, building a positive and fulfilling work experience takes time and effort. Be patient, persistent, and stay focused on your goals. \n"
      ],
      "text/plain": [
       "<IPython.core.display.Markdown object>"
      ]
     },
     "execution_count": 59,
     "metadata": {},
     "output_type": "execute_result"
    }
   ],
   "source": [
    "to_markdown(response.text)"
   ]
  },
  {
   "cell_type": "code",
   "execution_count": 60,
   "id": "a4b23671",
   "metadata": {},
   "outputs": [
    {
     "name": "stdout",
     "output_type": "stream",
     "text": [
      "CPU times: user 4.56 ms, sys: 11.4 ms, total: 16 ms\n",
      "Wall time: 6.71 s\n"
     ]
    }
   ],
   "source": [
    "%%time\n",
    "response = model.generate_content(\"I am currently computer vision engineer at Samsung Electronics. Please tell me how to survive in the company?\")"
   ]
  },
  {
   "cell_type": "code",
   "execution_count": 61,
   "id": "5c1ea998",
   "metadata": {},
   "outputs": [
    {
     "data": {
      "text/markdown": [
       "> It's great to hear you're a computer vision engineer at Samsung Electronics! It's a challenging but rewarding field. Here are some tips on how to thrive in the company:\n",
       "> \n",
       "> **Technical Excellence:**\n",
       "> \n",
       "> * **Stay Ahead of the Curve:** Computer vision is a rapidly evolving field. Dedicate time to learning new techniques, frameworks, and research papers. Attend conferences, workshops, and online courses.\n",
       "> * **Master Your Skills:** Focus on building deep expertise in computer vision algorithms, deep learning frameworks (TensorFlow, PyTorch), image processing, and relevant programming languages (Python, C++).\n",
       "> * **Practice & Experiment:** Build personal projects and experiment with new ideas to solidify your skills and create a portfolio showcasing your capabilities.\n",
       "> * **Contribute to Open Source:** Contributing to open-source projects demonstrates your technical skills and helps you learn from the community.\n",
       "> \n",
       "> **Professional Development:**\n",
       "> \n",
       "> * **Build Strong Relationships:** Network with colleagues, mentors, and leaders within Samsung. Attend internal events, participate in discussions, and seek opportunities to collaborate.\n",
       "> * **Seek Mentorship:** Find a senior engineer who can guide your career path and provide advice on technical skills, project management, and navigating the corporate environment.\n",
       "> * **Communicate Effectively:** Clearly communicate your technical ideas and project progress to your team, stakeholders, and managers. Develop strong written and presentation skills.\n",
       "> * **Embrace Collaboration:**  Work effectively within teams and be open to learning from others. Share your knowledge and help others grow.\n",
       "> \n",
       "> **Company Culture:**\n",
       "> \n",
       "> * **Understand Samsung's Values:** Learn about Samsung's core values and how they translate to your work. Embrace the company's culture of innovation, customer-centricity, and excellence.\n",
       "> * **Adapt to the Work Environment:**  Samsung has a highly competitive and fast-paced environment. Be prepared to work long hours and adapt to changing priorities.\n",
       "> * **Embrace Challenges:**  Don't be afraid to take on challenging projects and push yourself outside your comfort zone. This will help you grow professionally and contribute significantly to the company.\n",
       "> * **Be a Team Player:**  Collaborate effectively with colleagues and be supportive of their work. \n",
       "> * **Be Open to Feedback:** Seek feedback from managers, peers, and mentors to continuously improve your work and performance. \n",
       "> \n",
       "> **Specific to Samsung:**\n",
       "> \n",
       "> * **Understand Samsung's Products and Markets:** Focus on understanding Samsung's key product lines and their target markets. This will help you tailor your work to contribute to the company's overall goals.\n",
       "> * **Learn About Samsung's Research and Development:** Stay up-to-date on Samsung's research efforts in computer vision and related fields. This will give you insights into potential future projects and areas for growth.\n",
       "> * **Network Within Samsung:** Participate in internal events, hackathons, and other activities to connect with colleagues across different departments and learn about different areas within Samsung.\n",
       "> \n",
       "> Remember, surviving at Samsung requires a combination of technical excellence, professional development, and a strong understanding of the company's culture and goals. By focusing on these areas, you can build a successful and fulfilling career within the organization. \n"
      ],
      "text/plain": [
       "<IPython.core.display.Markdown object>"
      ]
     },
     "execution_count": 61,
     "metadata": {},
     "output_type": "execute_result"
    }
   ],
   "source": [
    "to_markdown(response.text)"
   ]
  },
  {
   "cell_type": "markdown",
   "id": "b56b858c-ce38-4751-99dc-0ba9c10a7c50",
   "metadata": {
    "id": "UZPpoKMQoru8"
   },
   "source": [
    "Show `GenerateContentRespose.prompt_feedback`"
   ]
  },
  {
   "cell_type": "code",
   "execution_count": 62,
   "id": "8cfe648e-697a-4598-9d05-9735feb7c5ea",
   "metadata": {
    "id": "eIQdU8AGoraT",
    "outputId": "169ad02f-04d0-405c-f4bf-9d040dec4581"
   },
   "outputs": [
    {
     "data": {
      "text/plain": []
     },
     "execution_count": 62,
     "metadata": {},
     "output_type": "execute_result"
    }
   ],
   "source": [
    "response.prompt_feedback"
   ]
  },
  {
   "cell_type": "markdown",
   "id": "a67a56bc-1edf-4101-9264-ef01bb468640",
   "metadata": {
    "id": "BEJupEDUo6Xj"
   },
   "source": [
    "Show `GenerateContentResponse.candidates`"
   ]
  },
  {
   "cell_type": "code",
   "execution_count": 63,
   "id": "05283ed4-b984-4b57-90b9-1c0acef0ce01",
   "metadata": {
    "id": "QoGYz-I7o5wF",
    "outputId": "7ce8cc95-0726-40aa-8feb-693481022120"
   },
   "outputs": [
    {
     "data": {
      "text/plain": [
       "[index: 0\n",
       "content {\n",
       "  parts {\n",
       "    text: \"It\\'s great to hear you\\'re a computer vision engineer at Samsung Electronics! It\\'s a challenging but rewarding field. Here are some tips on how to thrive in the company:\\n\\n**Technical Excellence:**\\n\\n* **Stay Ahead of the Curve:** Computer vision is a rapidly evolving field. Dedicate time to learning new techniques, frameworks, and research papers. Attend conferences, workshops, and online courses.\\n* **Master Your Skills:** Focus on building deep expertise in computer vision algorithms, deep learning frameworks (TensorFlow, PyTorch), image processing, and relevant programming languages (Python, C++).\\n* **Practice & Experiment:** Build personal projects and experiment with new ideas to solidify your skills and create a portfolio showcasing your capabilities.\\n* **Contribute to Open Source:** Contributing to open-source projects demonstrates your technical skills and helps you learn from the community.\\n\\n**Professional Development:**\\n\\n* **Build Strong Relationships:** Network with colleagues, mentors, and leaders within Samsung. Attend internal events, participate in discussions, and seek opportunities to collaborate.\\n* **Seek Mentorship:** Find a senior engineer who can guide your career path and provide advice on technical skills, project management, and navigating the corporate environment.\\n* **Communicate Effectively:** Clearly communicate your technical ideas and project progress to your team, stakeholders, and managers. Develop strong written and presentation skills.\\n* **Embrace Collaboration:**  Work effectively within teams and be open to learning from others. Share your knowledge and help others grow.\\n\\n**Company Culture:**\\n\\n* **Understand Samsung\\'s Values:** Learn about Samsung\\'s core values and how they translate to your work. Embrace the company\\'s culture of innovation, customer-centricity, and excellence.\\n* **Adapt to the Work Environment:**  Samsung has a highly competitive and fast-paced environment. Be prepared to work long hours and adapt to changing priorities.\\n* **Embrace Challenges:**  Don\\'t be afraid to take on challenging projects and push yourself outside your comfort zone. This will help you grow professionally and contribute significantly to the company.\\n* **Be a Team Player:**  Collaborate effectively with colleagues and be supportive of their work. \\n* **Be Open to Feedback:** Seek feedback from managers, peers, and mentors to continuously improve your work and performance. \\n\\n**Specific to Samsung:**\\n\\n* **Understand Samsung\\'s Products and Markets:** Focus on understanding Samsung\\'s key product lines and their target markets. This will help you tailor your work to contribute to the company\\'s overall goals.\\n* **Learn About Samsung\\'s Research and Development:** Stay up-to-date on Samsung\\'s research efforts in computer vision and related fields. This will give you insights into potential future projects and areas for growth.\\n* **Network Within Samsung:** Participate in internal events, hackathons, and other activities to connect with colleagues across different departments and learn about different areas within Samsung.\\n\\nRemember, surviving at Samsung requires a combination of technical excellence, professional development, and a strong understanding of the company\\'s culture and goals. By focusing on these areas, you can build a successful and fulfilling career within the organization. \\n\"\n",
       "  }\n",
       "  role: \"model\"\n",
       "}\n",
       "finish_reason: STOP\n",
       "safety_ratings {\n",
       "  category: HARM_CATEGORY_SEXUALLY_EXPLICIT\n",
       "  probability: NEGLIGIBLE\n",
       "}\n",
       "safety_ratings {\n",
       "  category: HARM_CATEGORY_HATE_SPEECH\n",
       "  probability: NEGLIGIBLE\n",
       "}\n",
       "safety_ratings {\n",
       "  category: HARM_CATEGORY_HARASSMENT\n",
       "  probability: NEGLIGIBLE\n",
       "}\n",
       "safety_ratings {\n",
       "  category: HARM_CATEGORY_DANGEROUS_CONTENT\n",
       "  probability: NEGLIGIBLE\n",
       "}\n",
       "]"
      ]
     },
     "execution_count": 63,
     "metadata": {},
     "output_type": "execute_result"
    }
   ],
   "source": [
    "response.candidates"
   ]
  },
  {
   "cell_type": "markdown",
   "id": "26ca8189-772e-4d22-b37e-2e2f8b9c3435",
   "metadata": {},
   "source": [
    "## Generation Config"
   ]
  },
  {
   "cell_type": "code",
   "execution_count": 64,
   "id": "fc04a9c5-73c6-4743-bc93-2e4e63e58f4d",
   "metadata": {},
   "outputs": [],
   "source": [
    "# Set up the model\n",
    "generation_config = {\n",
    "  \"temperature\": 0.9,\n",
    "  \"max_output_tokens\": 2048,\n",
    "}"
   ]
  },
  {
   "cell_type": "markdown",
   "id": "de2b2b7d",
   "metadata": {},
   "source": [
    "- Reference: https://ai.google.dev/api/rest/v1/GenerationConfig\n",
    "- temperature: Optional. Controls the randomness of the output.\n",
    "   Note: The default value varies by model, see the Model.temperature attribute of the Model returned from the getModel function.\n",
    "   Values can range from [0.0, 2.0]."
   ]
  },
  {
   "cell_type": "code",
   "execution_count": 65,
   "id": "ea8d5eb8-c697-42c3-bd6e-204fcd2b1e6b",
   "metadata": {},
   "outputs": [
    {
     "name": "stdout",
     "output_type": "stream",
     "text": [
      "CPU times: user 15.3 ms, sys: 2.61 ms, total: 17.9 ms\n",
      "Wall time: 6.82 s\n"
     ]
    }
   ],
   "source": [
    "%%time\n",
    "response = model.generate_content(\"I am currently computer vision engineer at Samsung Electronics. Please tell me how to survive in the company?\", generation_config=generation_config)"
   ]
  },
  {
   "cell_type": "code",
   "execution_count": 66,
   "id": "a93312a5-75b4-413f-9929-396a32d63891",
   "metadata": {},
   "outputs": [
    {
     "data": {
      "text/markdown": [
       "> It's great to hear you're a Computer Vision Engineer at Samsung Electronics!  It's a challenging and rewarding field to be in. Here's a breakdown of how to thrive in that environment: \n",
       "> \n",
       "> **1.  Master Your Technical Skills:**\n",
       "> \n",
       "> * **Deep Learning:** Stay up-to-date with the latest advancements in deep learning architectures (CNNs, RNNs, Transformers),  loss functions, and optimization techniques.  \n",
       "> * **Computer Vision Algorithms:**  Develop a strong foundation in classic CV algorithms (image processing, feature extraction, object detection, segmentation, etc.).\n",
       "> * **Programming Languages:** Python, C++, and possibly others depending on the projects you work on. \n",
       "> * **Frameworks:** TensorFlow, PyTorch, OpenCV, etc. are essential for building and deploying CV models.\n",
       "> * **Hardware Understanding:**  Familiarity with GPU computing and its impact on model performance.\n",
       "> \n",
       "> **2.  Embrace Collaboration and Communication:**\n",
       "> \n",
       "> * **Teamwork:**  Samsung is a large company, so collaboration is key. Be a team player, participate actively, and offer help to your colleagues.\n",
       "> * **Clear Communication:**  Effectively communicate your ideas, technical details, and results to both technical and non-technical audiences.\n",
       "> * **Active Listening:**  Be receptive to feedback and be willing to learn from others.\n",
       "> \n",
       "> **3.  Be a Problem Solver:**\n",
       "> \n",
       "> * **Critical Thinking:**  Approach challenges with a structured mindset. Break down complex problems into smaller, manageable tasks.\n",
       "> * **Creativity:** Don't be afraid to think outside the box and propose innovative solutions.\n",
       "> * **Data-Driven Decision Making:**  Back up your decisions with data and evidence.\n",
       "> \n",
       "> **4.  Stay Relevant and Curious:**\n",
       "> \n",
       "> * **Continuous Learning:**  Stay on top of the latest trends in CV by reading research papers, attending conferences, and taking online courses.\n",
       "> * **Experimentation:**  Be willing to try new techniques and tools. Don't be afraid to fail, as failures can lead to valuable lessons.\n",
       "> * **Passion for the Field:**  Keep your passion for CV alive.  This will help you stay motivated and engaged.\n",
       "> \n",
       "> **5.  Navigation Tips at Samsung:**\n",
       "> \n",
       "> * **Understand the Company Culture:**  Samsung has a strong emphasis on hierarchy, efficiency, and a focus on results.  Adapt your communication style and approach accordingly.\n",
       "> * **Build Relationships:**  Network with colleagues, mentors, and leaders across different teams and departments.\n",
       "> * **Seek Guidance:**  Don't hesitate to ask for help from your superiors, colleagues, or mentors when you face challenges.\n",
       "> * **Take Initiative:**  Volunteer for projects, present your ideas, and take on new responsibilities to showcase your skills and dedication.\n",
       "> \n",
       "> **Additional Tips:**\n",
       "> \n",
       "> * **Personal Branding:**  Develop a strong online presence (LinkedIn, GitHub) to showcase your skills and accomplishments.\n",
       "> * **Project Management:**  Learn project management principles to effectively manage your time, resources, and deliverables.\n",
       "> * **Work-Life Balance:**  Samsung is a demanding company.  Make sure you take time for yourself, exercise, and hobbies to maintain a healthy work-life balance.\n",
       "> \n",
       "> Remember, surviving and thriving at Samsung requires a combination of technical proficiency, communication skills, a growth mindset, and a willingness to adapt to the company's culture. Good luck! \n"
      ],
      "text/plain": [
       "<IPython.core.display.Markdown object>"
      ]
     },
     "execution_count": 66,
     "metadata": {},
     "output_type": "execute_result"
    }
   ],
   "source": [
    "to_markdown(response.text)"
   ]
  }
 ],
 "metadata": {
  "kernelspec": {
   "display_name": "Python 3 (ipykernel)",
   "language": "python",
   "name": "python3"
  },
  "language_info": {
   "codemirror_mode": {
    "name": "ipython",
    "version": 3
   },
   "file_extension": ".py",
   "mimetype": "text/x-python",
   "name": "python",
   "nbconvert_exporter": "python",
   "pygments_lexer": "ipython3",
   "version": "3.11.9"
  }
 },
 "nbformat": 4,
 "nbformat_minor": 5
}
